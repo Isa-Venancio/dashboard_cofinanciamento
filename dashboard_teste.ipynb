# ##############################################################################
# Dashboard de Teste - Binder
# ##############################################################################

# --- Importação de pacotes ---
import pandas as pd
import numpy as np
import matplotlib.pyplot as plt
import seaborn as sns
import ipywidgets as widgets
from IPython.display import display, clear_output, HTML

# --- Geração de dados de teste (simples e rápido) ---
np.random.seed(42)
data = {
    'Categoria': np.random.choice(['A', 'B', 'C', 'D'], 100),
    'Valor': np.random.rand(100) * 100,
    'Grupo': np.random.choice(['X', 'Y'], 100),
    'Data': pd.to_datetime(pd.date_range('2023-01-01', periods=100))
}
df_teste = pd.DataFrame(data)

# --- Criando um Dashboard interativo simples ---

# Widget de seleção de categoria
dropdown_categoria = widgets.Dropdown(
    options=df_teste['Categoria'].unique().tolist(),
    value=df_teste['Categoria'].unique()[0],
    description='Categoria:',
    disabled=False,
)

# Output para o gráfico
output_plot = widgets.Output()

def update_plot(categoria):
    with output_plot:
        clear_output(wait=True)
        filtered_df = df_teste[df_teste['Categoria'] == categoria]

        plt.figure(figsize=(8, 4))
        sns.histplot(filtered_df['Valor'], kde=True)
        plt.title(f'Distribuição de Valor para Categoria {categoria}')
        plt.xlabel('Valor')
        plt.ylabel('Frequência')
        plt.grid(True, linestyle='--', alpha=0.7)
        plt.tight_layout()
        plt.show()

# Linkando o widget à função de atualização
widgets.interactive_output(update_plot, {'categoria': dropdown_categoria})

# Criando abas para o dashboard
tab_dashboard = widgets.Tab()
tab_dashboard.children = [output_plot, widgets.Output()] # Duas abas, uma para o plot, outra vazia

# Títulos das abas
tab_dashboard.set_title(0, 'Gráfico Interativo')
tab_dashboard.set_title(1, 'Informações Gerais')

# Conteúdo da aba de informações gerais
with tab_dashboard.children[1]:
    display(HTML("<h3>Dashboard de Teste - Informações Gerais</h3><p>Este é um dashboard interativo simples para testar a funcionalidade do Binder.</p><p>Dados gerados aleatoriamente.</p>"))
    display(df_teste.head())

# Exibir o dashboard
print("Dashboard de Teste Carregado!")
display(tab_dashboard)

# Um print final para garantir que a execução terminou (importante para nbconvert)
print("\nExecução do notebook de teste concluída.")
