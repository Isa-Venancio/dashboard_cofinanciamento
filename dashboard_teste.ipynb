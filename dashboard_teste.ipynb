import pandas as pd
import matplotlib.pyplot as plt

print("Olá, Binder e Voila!")

# Um gráfico bem simples para testar
plt.plot([1, 2, 3, 4, 5], [1, 4, 9, 16, 25])
plt.title("Teste de Gráfico")
plt.xlabel("X")
plt.ylabel("Y")
plt.show()
