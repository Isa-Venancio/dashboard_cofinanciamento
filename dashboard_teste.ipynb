{
  "nbformat": 4,
  "nbformat_minor": 0,
  "metadata": {
    "colab": {
      "provenance": []
    },
    "kernelspec": {
      "name": "python3",
      "display_name": "Python 3"
    },
    "language_info": {
      "name": "python"
    }
  },
  "cells": [
    {
      "cell_type": "code",
      "execution_count": null,
      "metadata": {
        "id": "urdsUILB7m-T"
      },
      "outputs": [],
      "source": [
        "# ##############################################################################\n",
        "# Dashboard de Teste - Binder\n",
        "# ##############################################################################\n",
        "\n",
        "# --- Importação de pacotes ---\n",
        "import pandas as pd\n",
        "import numpy as np\n",
        "import matplotlib.pyplot as plt\n",
        "import seaborn as sns\n",
        "import ipywidgets as widgets\n",
        "from IPython.display import display, clear_output, HTML\n",
        "\n",
        "# --- Geração de dados de teste (simples e rápido) ---\n",
        "np.random.seed(42)\n",
        "data = {\n",
        "    'Categoria': np.random.choice(['A', 'B', 'C', 'D'], 100),\n",
        "    'Valor': np.random.rand(100) * 100,\n",
        "    'Grupo': np.random.choice(['X', 'Y'], 100),\n",
        "    'Data': pd.to_datetime(pd.date_range('2023-01-01', periods=100))\n",
        "}\n",
        "df_teste = pd.DataFrame(data)\n",
        "\n",
        "# --- Criando um Dashboard interativo simples ---\n",
        "\n",
        "# Widget de seleção de categoria\n",
        "dropdown_categoria = widgets.Dropdown(\n",
        "    options=df_teste['Categoria'].unique().tolist(),\n",
        "    value=df_teste['Categoria'].unique()[0],\n",
        "    description='Categoria:',\n",
        "    disabled=False,\n",
        ")\n",
        "\n",
        "# Output para o gráfico\n",
        "output_plot = widgets.Output()\n",
        "\n",
        "def update_plot(categoria):\n",
        "    with output_plot:\n",
        "        clear_output(wait=True)\n",
        "        filtered_df = df_teste[df_teste['Categoria'] == categoria]\n",
        "\n",
        "        plt.figure(figsize=(8, 4))\n",
        "        sns.histplot(filtered_df['Valor'], kde=True)\n",
        "        plt.title(f'Distribuição de Valor para Categoria {categoria}')\n",
        "        plt.xlabel('Valor')\n",
        "        plt.ylabel('Frequência')\n",
        "        plt.grid(True, linestyle='--', alpha=0.7)\n",
        "        plt.tight_layout()\n",
        "        plt.show()\n",
        "\n",
        "# Linkando o widget à função de atualização\n",
        "widgets.interactive_output(update_plot, {'categoria': dropdown_categoria})\n",
        "\n",
        "# Criando abas para o dashboard\n",
        "tab_dashboard = widgets.Tab()\n",
        "tab_dashboard.children = [output_plot, widgets.Output()] # Duas abas, uma para o plot, outra vazia\n",
        "\n",
        "# Títulos das abas\n",
        "tab_dashboard.set_title(0, 'Gráfico Interativo')\n",
        "tab_dashboard.set_title(1, 'Informações Gerais')\n",
        "\n",
        "# Conteúdo da aba de informações gerais\n",
        "with tab_dashboard.children[1]:\n",
        "    display(HTML(\"<h3>Dashboard de Teste - Informações Gerais</h3><p>Este é um dashboard interativo simples para testar a funcionalidade do Binder.</p><p>Dados gerados aleatoriamente.</p>\"))\n",
        "    display(df_teste.head())\n",
        "\n",
        "# Exibir o dashboard\n",
        "print(\"Dashboard de Teste Carregado!\")\n",
        "display(tab_dashboard)\n",
        "\n",
        "# Um print final para garantir que a execução terminou (importante para nbconvert)\n",
        "print(\"\\nExecução do notebook de teste concluída.\")"
      ]
    }
  ]
}